{
 "cells": [
  {
   "cell_type": "code",
   "execution_count": 1,
   "id": "42125fb8",
   "metadata": {},
   "outputs": [],
   "source": [
    "import nltk\n",
    "from nltk.corpus import wordnet\n",
    "import pandas as pd\n",
    "import numpy as np\n",
    "from textblob import TextBlob\n",
    "import nltk\n",
    "from nltk.sentiment import SentimentIntensityAnalyzer"
   ]
  },
  {
   "cell_type": "code",
   "execution_count": 2,
   "id": "c94e80fa",
   "metadata": {},
   "outputs": [],
   "source": [
    "data = pd.read_csv(\"mazda_newest_gm_reviews.csv\")"
   ]
  },
  {
   "cell_type": "code",
   "execution_count": 3,
   "id": "209e2c77",
   "metadata": {},
   "outputs": [],
   "source": [
    "data = data.loc[:,['caption','rating']]"
   ]
  },
  {
   "cell_type": "code",
   "execution_count": 4,
   "id": "dafd45c6",
   "metadata": {},
   "outputs": [
    {
     "data": {
      "text/html": [
       "<div>\n",
       "<style scoped>\n",
       "    .dataframe tbody tr th:only-of-type {\n",
       "        vertical-align: middle;\n",
       "    }\n",
       "\n",
       "    .dataframe tbody tr th {\n",
       "        vertical-align: top;\n",
       "    }\n",
       "\n",
       "    .dataframe thead th {\n",
       "        text-align: right;\n",
       "    }\n",
       "</style>\n",
       "<table border=\"1\" class=\"dataframe\">\n",
       "  <thead>\n",
       "    <tr style=\"text-align: right;\">\n",
       "      <th></th>\n",
       "      <th>caption</th>\n",
       "      <th>rating</th>\n",
       "    </tr>\n",
       "  </thead>\n",
       "  <tbody>\n",
       "    <tr>\n",
       "      <th>0</th>\n",
       "      <td>We had a wonderful experience at pine belt Maz...</td>\n",
       "      <td>5</td>\n",
       "    </tr>\n",
       "    <tr>\n",
       "      <th>1</th>\n",
       "      <td>NaN</td>\n",
       "      <td>5</td>\n",
       "    </tr>\n",
       "    <tr>\n",
       "      <th>2</th>\n",
       "      <td>Ryan Santos is professional and honest in hand...</td>\n",
       "      <td>5</td>\n",
       "    </tr>\n",
       "    <tr>\n",
       "      <th>3</th>\n",
       "      <td>I had my old car in for major service and I ha...</td>\n",
       "      <td>5</td>\n",
       "    </tr>\n",
       "    <tr>\n",
       "      <th>4</th>\n",
       "      <td>Great experience with service and sales!</td>\n",
       "      <td>5</td>\n",
       "    </tr>\n",
       "  </tbody>\n",
       "</table>\n",
       "</div>"
      ],
      "text/plain": [
       "                                             caption  rating\n",
       "0  We had a wonderful experience at pine belt Maz...       5\n",
       "1                                                NaN       5\n",
       "2  Ryan Santos is professional and honest in hand...       5\n",
       "3  I had my old car in for major service and I ha...       5\n",
       "4           Great experience with service and sales!       5"
      ]
     },
     "execution_count": 4,
     "metadata": {},
     "output_type": "execute_result"
    }
   ],
   "source": [
    "data.head()"
   ]
  },
  {
   "cell_type": "code",
   "execution_count": 5,
   "id": "fd56c70a",
   "metadata": {},
   "outputs": [
    {
     "data": {
      "text/plain": [
       "caption    26\n",
       "rating      0\n",
       "dtype: int64"
      ]
     },
     "execution_count": 5,
     "metadata": {},
     "output_type": "execute_result"
    }
   ],
   "source": [
    "data.isnull().sum()"
   ]
  },
  {
   "cell_type": "code",
   "execution_count": 6,
   "id": "029f9d2a",
   "metadata": {},
   "outputs": [],
   "source": [
    "data['caption'].fillna(\"None\",inplace=True)"
   ]
  },
  {
   "cell_type": "code",
   "execution_count": 6,
   "id": "45712021",
   "metadata": {},
   "outputs": [],
   "source": [
    "def negation_handler(sentence):\n",
    "    temp = int(0)\n",
    "    for i in range(len(sentence)):\n",
    "        if sentence[i-1] in ['not',\"n't\",\"'t\"]:\n",
    "            antonyms = []\n",
    "            for syn in wordnet.synsets(sentence[i]):\n",
    "                syns = wordnet.synsets(sentence[i])\n",
    "                w1 = syns[0].name()\n",
    "                temp = 0\n",
    "                for l in syn.lemmas():\n",
    "                    if l.antonyms():\n",
    "                        antonyms.append(l.antonyms()[0].name())\n",
    "                max_dissimilarity = 0\n",
    "                for ant in antonyms:\n",
    "                    syns = wordnet.synsets(ant)\n",
    "                    w2 = syns[0].name()\n",
    "                    syns = wordnet.synsets(sentence[i])\n",
    "                    w1 = syns[0].name()\n",
    "                    word1 = wordnet.synset(w1)\n",
    "                    word2 = wordnet.synset(w2)\n",
    "                    if isinstance(word1.wup_similarity(word2), float) or isinstance(word1.wup_similarity(word2), int):\n",
    "                        temp = 1 - word1.wup_similarity(word2)\n",
    "                    if temp>max_dissimilarity:\n",
    "                        max_dissimilarity = temp\n",
    "                        antonym_max = ant\n",
    "                        sentence[i] = antonym_max\n",
    "                        sentence[i-1] = ''\n",
    "    while '' in sentence:\n",
    "        sentence.remove('')\n",
    "    for i in range(len(sentence)):\n",
    "      if \"ca\" == sentence[i]:\n",
    "        sentence[i]=\"can\"\n",
    "    return sentence"
   ]
  },
  {
   "cell_type": "code",
   "execution_count": 9,
   "id": "afa371b5",
   "metadata": {},
   "outputs": [
    {
     "data": {
      "text/plain": [
       "'This is unreasonably good pencil'"
      ]
     },
     "execution_count": 9,
     "metadata": {},
     "output_type": "execute_result"
    }
   ],
   "source": [
    "sentence =nltk.word_tokenize(\"This is not pretty good pencil\")\n",
    "sen = \" \".join(negation_handler(sentence))\n",
    "sen"
   ]
  },
  {
   "cell_type": "code",
   "execution_count": 8,
   "id": "a1e7a2dc",
   "metadata": {},
   "outputs": [],
   "source": [
    "def caption_modification(sentence):\n",
    "    sentence =nltk.word_tokenize(sentence)\n",
    "    sentence = negation_handler(sentence)\n",
    "    return \" \".join(sentence)"
   ]
  },
  {
   "cell_type": "code",
   "execution_count": 9,
   "id": "836b07b3",
   "metadata": {},
   "outputs": [],
   "source": [
    "data['caption'] = data['caption'].apply(caption_modification)"
   ]
  },
  {
   "cell_type": "code",
   "execution_count": 10,
   "id": "c8310c83",
   "metadata": {},
   "outputs": [],
   "source": [
    "def magicword_remover(sentence):\n",
    "    sentence = \"\".join(char for char in sentence if char.isalnum() or char.isspace() or char==\".\")\n",
    "    return \" \".join(sentence.split())\n",
    "# print(magicword_remover(\"code for removing ! !    unnecessary space from string in between words\").strip())"
   ]
  },
  {
   "cell_type": "code",
   "execution_count": 11,
   "id": "0898241b",
   "metadata": {},
   "outputs": [],
   "source": [
    "data['caption'] = data['caption'].apply(magicword_remover)"
   ]
  },
  {
   "cell_type": "code",
   "execution_count": 12,
   "id": "21c6e0e3",
   "metadata": {},
   "outputs": [
    {
     "data": {
      "text/plain": [
       "'I could differ happier with my experience at Pine Belt Mazda I came to them after my car was totalled and had to start from nothing . The team worked with me and helped get me in a new car less than a week after my accident . They made it'"
      ]
     },
     "execution_count": 12,
     "metadata": {},
     "output_type": "execute_result"
    }
   ],
   "source": [
    "data['caption'].iloc[103]"
   ]
  },
  {
   "cell_type": "code",
   "execution_count": 13,
   "id": "5415b05a",
   "metadata": {},
   "outputs": [
    {
     "name": "stdout",
     "output_type": "stream",
     "text": [
      "this  Neutral\n"
     ]
    },
    {
     "name": "stderr",
     "output_type": "stream",
     "text": [
      "[nltk_data] Error loading vader_lexicon: <urlopen error [Errno 11001]\n",
      "[nltk_data]     getaddrinfo failed>\n"
     ]
    }
   ],
   "source": [
    "nltk.download('vader_lexicon')\n",
    "def sentiment_analysis(text):\n",
    "    sentiment = SentimentIntensityAnalyzer()\n",
    "    score = sentiment.polarity_scores(text)\n",
    "    if score['compound'] > 0.5:\n",
    "        return 'Positive'\n",
    "    elif score['compound'] < -0.5:\n",
    "        return 'Negative'\n",
    "    else:\n",
    "        return 'Neutral'\n",
    "\n",
    "text = \"I could differ happier with my experience at Pine Belt Mazda I came to them after my car was totalled and had to start from nothing . The team worked with me and helped get me in a new car less than a week after my accident . They made it\"\n",
    "print(\"this \",sentiment_analysis(text))"
   ]
  },
  {
   "cell_type": "code",
   "execution_count": 14,
   "id": "ebfcbcde",
   "metadata": {},
   "outputs": [],
   "source": [
    "data['polarityVader'] = data['caption'].apply(sentiment_analysis)"
   ]
  },
  {
   "cell_type": "code",
   "execution_count": 15,
   "id": "da73c698",
   "metadata": {},
   "outputs": [
    {
     "data": {
      "text/plain": [
       "'Positive'"
      ]
     },
     "execution_count": 15,
     "metadata": {},
     "output_type": "execute_result"
    }
   ],
   "source": [
    "data['polarityVader'].iloc[155]"
   ]
  },
  {
   "cell_type": "code",
   "execution_count": 16,
   "id": "17c7ccf4",
   "metadata": {},
   "outputs": [
    {
     "data": {
      "text/plain": [
       "'From someone who dislikes every aspect of car shopping this place was great in my opinion . Our salesman was Seamus who was very personable and genuine . He was efficient and helpful throughout the whole process . There are a bunch of car'"
      ]
     },
     "execution_count": 16,
     "metadata": {},
     "output_type": "execute_result"
    }
   ],
   "source": [
    "data['caption'].iloc[155]"
   ]
  },
  {
   "cell_type": "code",
   "execution_count": 17,
   "id": "c9e571fc",
   "metadata": {},
   "outputs": [
    {
     "data": {
      "text/plain": [
       "'I could differ happier with my experience at Pine Belt Mazda I came to them after my car was totalled and had to start from nothing . The team worked with me and helped get me in a new car less than a week after my accident . They made it'"
      ]
     },
     "execution_count": 17,
     "metadata": {},
     "output_type": "execute_result"
    }
   ],
   "source": [
    "data['caption'].iloc[103]"
   ]
  },
  {
   "cell_type": "code",
   "execution_count": 18,
   "id": "a7aef311",
   "metadata": {},
   "outputs": [
    {
     "data": {
      "text/plain": [
       "'Neutral'"
      ]
     },
     "execution_count": 18,
     "metadata": {},
     "output_type": "execute_result"
    }
   ],
   "source": [
    "data['polarityVader'].iloc[103]"
   ]
  },
  {
   "cell_type": "code",
   "execution_count": 19,
   "id": "6cbf6a6c",
   "metadata": {},
   "outputs": [],
   "source": [
    "def get_polarity(comment):\n",
    "    polarity = TextBlob(comment).sentiment.polarity\n",
    "    subjectivity = TextBlob(comment).sentiment.subjectivity\n",
    "    if polarity>0:\n",
    "        return \"positive\"\n",
    "    elif polarity ==0:\n",
    "        return \"neutral\"\n",
    "    else:\n",
    "        return \"negative\""
   ]
  },
  {
   "cell_type": "code",
   "execution_count": 20,
   "id": "81671950",
   "metadata": {},
   "outputs": [],
   "source": [
    "data[\"Polaritytxtblob\"] = data[\"caption\"].apply(get_polarity)"
   ]
  },
  {
   "cell_type": "code",
   "execution_count": 21,
   "id": "90d2c79f",
   "metadata": {},
   "outputs": [
    {
     "data": {
      "text/plain": [
       "caption            The worest dealership I have ever deal with . ...\n",
       "rating                                                             1\n",
       "polarityVader                                               Positive\n",
       "Polaritytxtblob                                             negative\n",
       "Name: 165, dtype: object"
      ]
     },
     "execution_count": 21,
     "metadata": {},
     "output_type": "execute_result"
    }
   ],
   "source": [
    "data.iloc[165]"
   ]
  },
  {
   "cell_type": "code",
   "execution_count": 22,
   "id": "c1dde761",
   "metadata": {},
   "outputs": [
    {
     "data": {
      "text/plain": [
       "'negative'"
      ]
     },
     "execution_count": 22,
     "metadata": {},
     "output_type": "execute_result"
    }
   ],
   "source": [
    "get_polarity(\"I could differ happier with my experience at Pine Belt Mazda. I came to them after my car was totalled and had to start from nothing. The team worked with me and helped get me in a new car less than a week after my accident. They made it\")"
   ]
  },
  {
   "cell_type": "code",
   "execution_count": 23,
   "id": "60a390a4",
   "metadata": {},
   "outputs": [
    {
     "data": {
      "text/html": [
       "<div>\n",
       "<style scoped>\n",
       "    .dataframe tbody tr th:only-of-type {\n",
       "        vertical-align: middle;\n",
       "    }\n",
       "\n",
       "    .dataframe tbody tr th {\n",
       "        vertical-align: top;\n",
       "    }\n",
       "\n",
       "    .dataframe thead th {\n",
       "        text-align: right;\n",
       "    }\n",
       "</style>\n",
       "<table border=\"1\" class=\"dataframe\">\n",
       "  <thead>\n",
       "    <tr style=\"text-align: right;\">\n",
       "      <th></th>\n",
       "      <th>caption</th>\n",
       "      <th>rating</th>\n",
       "      <th>polarityVader</th>\n",
       "      <th>Polaritytxtblob</th>\n",
       "    </tr>\n",
       "  </thead>\n",
       "  <tbody>\n",
       "    <tr>\n",
       "      <th>0</th>\n",
       "      <td>We had a wonderful experience at pine belt Maz...</td>\n",
       "      <td>5</td>\n",
       "      <td>Positive</td>\n",
       "      <td>positive</td>\n",
       "    </tr>\n",
       "    <tr>\n",
       "      <th>1</th>\n",
       "      <td>None</td>\n",
       "      <td>5</td>\n",
       "      <td>Neutral</td>\n",
       "      <td>neutral</td>\n",
       "    </tr>\n",
       "    <tr>\n",
       "      <th>2</th>\n",
       "      <td>Ryan Santos is professional and honest in hand...</td>\n",
       "      <td>5</td>\n",
       "      <td>Positive</td>\n",
       "      <td>positive</td>\n",
       "    </tr>\n",
       "    <tr>\n",
       "      <th>3</th>\n",
       "      <td>I had my old car in for major service and I ha...</td>\n",
       "      <td>5</td>\n",
       "      <td>Positive</td>\n",
       "      <td>positive</td>\n",
       "    </tr>\n",
       "    <tr>\n",
       "      <th>4</th>\n",
       "      <td>Great experience with service and sales</td>\n",
       "      <td>5</td>\n",
       "      <td>Positive</td>\n",
       "      <td>positive</td>\n",
       "    </tr>\n",
       "  </tbody>\n",
       "</table>\n",
       "</div>"
      ],
      "text/plain": [
       "                                             caption  rating polarityVader  \\\n",
       "0  We had a wonderful experience at pine belt Maz...       5      Positive   \n",
       "1                                               None       5       Neutral   \n",
       "2  Ryan Santos is professional and honest in hand...       5      Positive   \n",
       "3  I had my old car in for major service and I ha...       5      Positive   \n",
       "4            Great experience with service and sales       5      Positive   \n",
       "\n",
       "  Polaritytxtblob  \n",
       "0        positive  \n",
       "1         neutral  \n",
       "2        positive  \n",
       "3        positive  \n",
       "4        positive  "
      ]
     },
     "execution_count": 23,
     "metadata": {},
     "output_type": "execute_result"
    }
   ],
   "source": [
    "data.head()"
   ]
  },
  {
   "cell_type": "code",
   "execution_count": 29,
   "id": "2a44f3e0",
   "metadata": {},
   "outputs": [
    {
     "data": {
      "text/plain": [
       "Positive    179\n",
       "Neutral      59\n",
       "Negative      2\n",
       "Name: polarityVader, dtype: int64"
      ]
     },
     "execution_count": 29,
     "metadata": {},
     "output_type": "execute_result"
    }
   ],
   "source": [
    "data[\"polarityVader\"].value_counts()"
   ]
  },
  {
   "cell_type": "code",
   "execution_count": 31,
   "id": "d9e2c71e",
   "metadata": {},
   "outputs": [
    {
     "data": {
      "text/plain": [
       "positive    197\n",
       "neutral      34\n",
       "negative      9\n",
       "Name: Polaritytxtblob, dtype: int64"
      ]
     },
     "execution_count": 31,
     "metadata": {},
     "output_type": "execute_result"
    }
   ],
   "source": [
    "data[\"Polaritytxtblob\"].value_counts()"
   ]
  },
  {
   "cell_type": "code",
   "execution_count": 32,
   "id": "505b07e1",
   "metadata": {},
   "outputs": [
    {
     "data": {
      "text/plain": [
       "5    217\n",
       "1     14\n",
       "3      4\n",
       "4      3\n",
       "2      2\n",
       "Name: rating, dtype: int64"
      ]
     },
     "execution_count": 32,
     "metadata": {},
     "output_type": "execute_result"
    }
   ],
   "source": [
    "data[\"rating\"].value_counts()"
   ]
  },
  {
   "cell_type": "code",
   "execution_count": 27,
   "id": "71ecd076",
   "metadata": {},
   "outputs": [
    {
     "name": "stderr",
     "output_type": "stream",
     "text": [
      "No model was supplied, defaulted to distilbert-base-uncased-finetuned-sst-2-english and revision af0f99b (https://huggingface.co/distilbert-base-uncased-finetuned-sst-2-english).\n",
      "Using a pipeline without specifying a model name and revision in production is not recommended.\n"
     ]
    },
    {
     "ename": "ValueError",
     "evalue": "Could not load model distilbert-base-uncased-finetuned-sst-2-english with any of the following classes: (<class 'transformers.models.auto.modeling_auto.AutoModelForSequenceClassification'>, <class 'transformers.models.distilbert.modeling_distilbert.DistilBertForSequenceClassification'>).",
     "output_type": "error",
     "traceback": [
      "\u001b[1;31m---------------------------------------------------------------------------\u001b[0m",
      "\u001b[1;31mValueError\u001b[0m                                Traceback (most recent call last)",
      "\u001b[1;32m~\\AppData\\Local\\Temp\\ipykernel_11312\\680699648.py\u001b[0m in \u001b[0;36m<module>\u001b[1;34m\u001b[0m\n\u001b[0;32m      4\u001b[0m \u001b[1;31m# set_seed(42)\u001b[0m\u001b[1;33m\u001b[0m\u001b[1;33m\u001b[0m\u001b[0m\n\u001b[0;32m      5\u001b[0m \u001b[1;33m\u001b[0m\u001b[0m\n\u001b[1;32m----> 6\u001b[1;33m \u001b[0msentiment_model\u001b[0m \u001b[1;33m=\u001b[0m \u001b[0mpipeline\u001b[0m\u001b[1;33m(\u001b[0m\u001b[1;34m\"sentiment-analysis\"\u001b[0m\u001b[1;33m)\u001b[0m\u001b[1;33m\u001b[0m\u001b[1;33m\u001b[0m\u001b[0m\n\u001b[0m\u001b[0;32m      7\u001b[0m \u001b[1;33m\u001b[0m\u001b[0m\n\u001b[0;32m      8\u001b[0m \u001b[1;32mdef\u001b[0m \u001b[0manalyze_sentiment\u001b[0m\u001b[1;33m(\u001b[0m\u001b[0mtext\u001b[0m\u001b[1;33m)\u001b[0m\u001b[1;33m:\u001b[0m\u001b[1;33m\u001b[0m\u001b[1;33m\u001b[0m\u001b[0m\n",
      "\u001b[1;32m~\\AppData\\Roaming\\Python\\Python39\\site-packages\\transformers\\pipelines\\__init__.py\u001b[0m in \u001b[0;36mpipeline\u001b[1;34m(task, model, config, tokenizer, feature_extractor, framework, revision, use_fast, use_auth_token, device, device_map, torch_dtype, trust_remote_code, model_kwargs, pipeline_class, **kwargs)\u001b[0m\n\u001b[0;32m    752\u001b[0m     \u001b[1;31m# Will load the correct model if possible\u001b[0m\u001b[1;33m\u001b[0m\u001b[1;33m\u001b[0m\u001b[0m\n\u001b[0;32m    753\u001b[0m     \u001b[0mmodel_classes\u001b[0m \u001b[1;33m=\u001b[0m \u001b[1;33m{\u001b[0m\u001b[1;34m\"tf\"\u001b[0m\u001b[1;33m:\u001b[0m \u001b[0mtargeted_task\u001b[0m\u001b[1;33m[\u001b[0m\u001b[1;34m\"tf\"\u001b[0m\u001b[1;33m]\u001b[0m\u001b[1;33m,\u001b[0m \u001b[1;34m\"pt\"\u001b[0m\u001b[1;33m:\u001b[0m \u001b[0mtargeted_task\u001b[0m\u001b[1;33m[\u001b[0m\u001b[1;34m\"pt\"\u001b[0m\u001b[1;33m]\u001b[0m\u001b[1;33m}\u001b[0m\u001b[1;33m\u001b[0m\u001b[1;33m\u001b[0m\u001b[0m\n\u001b[1;32m--> 754\u001b[1;33m     framework, model = infer_framework_load_model(\n\u001b[0m\u001b[0;32m    755\u001b[0m         \u001b[0mmodel\u001b[0m\u001b[1;33m,\u001b[0m\u001b[1;33m\u001b[0m\u001b[1;33m\u001b[0m\u001b[0m\n\u001b[0;32m    756\u001b[0m         \u001b[0mmodel_classes\u001b[0m\u001b[1;33m=\u001b[0m\u001b[0mmodel_classes\u001b[0m\u001b[1;33m,\u001b[0m\u001b[1;33m\u001b[0m\u001b[1;33m\u001b[0m\u001b[0m\n",
      "\u001b[1;32m~\\AppData\\Roaming\\Python\\Python39\\site-packages\\transformers\\pipelines\\base.py\u001b[0m in \u001b[0;36minfer_framework_load_model\u001b[1;34m(model, config, model_classes, task, framework, **model_kwargs)\u001b[0m\n\u001b[0;32m    264\u001b[0m \u001b[1;33m\u001b[0m\u001b[0m\n\u001b[0;32m    265\u001b[0m         \u001b[1;32mif\u001b[0m \u001b[0misinstance\u001b[0m\u001b[1;33m(\u001b[0m\u001b[0mmodel\u001b[0m\u001b[1;33m,\u001b[0m \u001b[0mstr\u001b[0m\u001b[1;33m)\u001b[0m\u001b[1;33m:\u001b[0m\u001b[1;33m\u001b[0m\u001b[1;33m\u001b[0m\u001b[0m\n\u001b[1;32m--> 266\u001b[1;33m             \u001b[1;32mraise\u001b[0m \u001b[0mValueError\u001b[0m\u001b[1;33m(\u001b[0m\u001b[1;34mf\"Could not load model {model} with any of the following classes: {class_tuple}.\"\u001b[0m\u001b[1;33m)\u001b[0m\u001b[1;33m\u001b[0m\u001b[1;33m\u001b[0m\u001b[0m\n\u001b[0m\u001b[0;32m    267\u001b[0m \u001b[1;33m\u001b[0m\u001b[0m\n\u001b[0;32m    268\u001b[0m     \u001b[0mframework\u001b[0m \u001b[1;33m=\u001b[0m \u001b[1;34m\"tf\"\u001b[0m \u001b[1;32mif\u001b[0m \u001b[0mmodel\u001b[0m\u001b[1;33m.\u001b[0m\u001b[0m__class__\u001b[0m\u001b[1;33m.\u001b[0m\u001b[0m__name__\u001b[0m\u001b[1;33m.\u001b[0m\u001b[0mstartswith\u001b[0m\u001b[1;33m(\u001b[0m\u001b[1;34m\"TF\"\u001b[0m\u001b[1;33m)\u001b[0m \u001b[1;32melse\u001b[0m \u001b[1;34m\"pt\"\u001b[0m\u001b[1;33m\u001b[0m\u001b[1;33m\u001b[0m\u001b[0m\n",
      "\u001b[1;31mValueError\u001b[0m: Could not load model distilbert-base-uncased-finetuned-sst-2-english with any of the following classes: (<class 'transformers.models.auto.modeling_auto.AutoModelForSequenceClassification'>, <class 'transformers.models.distilbert.modeling_distilbert.DistilBertForSequenceClassification'>)."
     ]
    }
   ],
   "source": [
    "# import torch\n",
    "# from transformers import pipeline, set_seed\n",
    "\n",
    "# set_seed(42)\n",
    "\n",
    "sentiment_model = pipeline(\"sentiment-analysis\")\n",
    "\n",
    "def analyze_sentiment(text):\n",
    "    result = sentiment_model(text)\n",
    "    sentiment = result[0]['label']\n",
    "    score = result[0]['score']\n",
    "    \n",
    "    if sentiment == 'LABEL_NEGATIVE':\n",
    "        sentiment = 'Negative'\n",
    "    elif sentiment == 'LABEL_POSITIVE':\n",
    "        sentiment = 'Positive'\n",
    "    else:\n",
    "        sentiment = 'Neutral'\n",
    "    \n",
    "    return sentiment, score\n",
    "\n",
    "text = \"I love this product! It's amazing.\"\n",
    "print(analyze_sentiment(text)) # Output: ('Positive', 0.999)\n",
    "\n",
    "text = \"This product is not good. I don't like it.\"\n",
    "print(analyze_sentiment(text)) # Output: ('Negative', 0.994)\n"
   ]
  },
  {
   "cell_type": "code",
   "execution_count": null,
   "id": "869a7f0c",
   "metadata": {},
   "outputs": [],
   "source": []
  }
 ],
 "metadata": {
  "kernelspec": {
   "display_name": "Python 3 (ipykernel)",
   "language": "python",
   "name": "python3"
  },
  "language_info": {
   "codemirror_mode": {
    "name": "ipython",
    "version": 3
   },
   "file_extension": ".py",
   "mimetype": "text/x-python",
   "name": "python",
   "nbconvert_exporter": "python",
   "pygments_lexer": "ipython3",
   "version": "3.10.12"
  }
 },
 "nbformat": 4,
 "nbformat_minor": 5
}
